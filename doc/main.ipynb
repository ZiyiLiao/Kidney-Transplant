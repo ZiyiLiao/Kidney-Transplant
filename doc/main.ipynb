{
 "cells": [
  {
   "cell_type": "code",
   "execution_count": 1,
   "metadata": {},
   "outputs": [],
   "source": [
    "import os\n",
    "os.chdir('../lib')\n",
    "from SVD import *\n",
    "import pickle\n",
    "from matplotlib import pyplot as plt\n",
    "import numpy as np"
   ]
  },
  {
   "cell_type": "markdown",
   "metadata": {},
   "source": [
    "## SVD"
   ]
  },
  {
   "cell_type": "markdown",
   "metadata": {},
   "source": [
    "###  Using biased SGD"
   ]
  },
  {
   "cell_type": "code",
   "execution_count": 2,
   "metadata": {},
   "outputs": [],
   "source": [
    "# set up\n",
    "sgd = SGD('../data/ratings.csv')\n",
    "trainset, testset = sgd.split(0.2)"
   ]
  },
  {
   "cell_type": "code",
   "execution_count": 3,
   "metadata": {},
   "outputs": [],
   "source": [
    "# tuning parameters\n",
    "reg_list = [0.1,0.15,0.2,0.25]\n",
    "lr_list = [0.001,0.005, 0.01]\n",
    "rank_list = [5,10,20]\n",
    "sgd.gridParams(reg = reg_list, lr = lr_list, rank = rank_list)\n",
    "# sgd.tuningParams(trainset, verbose = False)"
   ]
  },
  {
   "cell_type": "code",
   "execution_count": 4,
   "metadata": {},
   "outputs": [
    {
     "name": "stdout",
     "output_type": "stream",
     "text": [
      "Best learning rate: 0.001; \n",
      "Best lambda: 0.25; \n",
      "Best rank: 20\n"
     ]
    }
   ],
   "source": [
    "# save the best parameters\n",
    "# sgd_best_params = sgd.best_params\n",
    "# pickle.dump(sgd_best_params, open( \"../output/sgd_best_params.p\", \"wb\" ))\n",
    "sgd_best_params = pickle.load(open( \"../output/sgd_best_params.p\", \"rb\" ))\n",
    "print(\"Best learning rate: {}; \\nBest lambda: {}; \\nBest rank: {}\".format(sgd_best_params[0],sgd_best_params[1], sgd_best_params[2]))"
   ]
  },
  {
   "cell_type": "code",
   "execution_count": 5,
   "metadata": {},
   "outputs": [
    {
     "name": "stdout",
     "output_type": "stream",
     "text": [
      "Total time: 73.2863s\n"
     ]
    }
   ],
   "source": [
    "# best model\n",
    "sgd.fit(trainset, lr = sgd_best_params[0] ,reg = sgd_best_params[1], rank = sgd_best_params[2],elapse = True)"
   ]
  },
  {
   "cell_type": "code",
   "execution_count": 6,
   "metadata": {},
   "outputs": [
    {
     "name": "stdout",
     "output_type": "stream",
     "text": [
      "0.018424169002607085\n"
     ]
    }
   ],
   "source": [
    "# test error\n",
    "sgd_err = sgd.err(testset, measure = 'rmse')\n",
    "print(sgd_err)"
   ]
  },
  {
   "cell_type": "markdown",
   "metadata": {},
   "source": [
    "#### Post-pocessing with KNN"
   ]
  },
  {
   "cell_type": "code",
   "execution_count": 6,
   "metadata": {},
   "outputs": [
    {
     "name": "stdout",
     "output_type": "stream",
     "text": [
      "best K for KNN: 4\n"
     ]
    },
    {
     "data": {
      "image/png": "[encoded data removed]",
      "text/plain": [
       "<Figure size 432x288 with 1 Axes>"
      ]
     },
     "metadata": {
      "needs_background": "light"
     },
     "output_type": "display_data"
    }
   ],
   "source": [
    "# train K\n",
    "K_err = []\n",
    "K_num = [i for i in range(2,100)]\n",
    "for k in K_num:\n",
    "    K_err.append(sgd.KNN(testset, K = k))\n",
    "plt.plot(K_num, K_err)\n",
    "plt.xlabel(\"number of neighbors\") \n",
    "plt.ylabel(\"Testing RMSE\")\n",
    "plt.title(\"Testing RMSE for K from 1 to 100\")\n",
    "plt.grid()\n",
    "best_K = np.argmin(K_err)+2\n",
    "print(\"best K for KNN: {}\".format(best_K))"
   ]
  },
  {
   "cell_type": "code",
   "execution_count": 7,
   "metadata": {},
   "outputs": [
    {
     "data": {
      "text/plain": [
       "0.022677899422441104"
      ]
     },
     "execution_count": 7,
     "metadata": {},
     "output_type": "execute_result"
    }
   ],
   "source": [
    "sgd.KNN(testset, K = best_K)"
   ]
  },
  {
   "cell_type": "markdown",
   "metadata": {},
   "source": [
    "### Using ALS"
   ]
  },
  {
   "cell_type": "code",
   "execution_count": 7,
   "metadata": {},
   "outputs": [],
   "source": [
    "# set up\n",
    "als = ALS('../data/ratings.csv')\n",
    "train_data, test_data = als.split(test_size = 0.2)"
   ]
  },
  {
   "cell_type": "code",
   "execution_count": 8,
   "metadata": {},
   "outputs": [],
   "source": [
    "# tuning parameters\n",
    "reg_list = [0.1,0.15,0.2,0.25]\n",
    "rank_list = [5,10,20]\n",
    "als.gridParams(reg = reg_list, rank = rank_list)\n",
    "# als.tuningParams(test_data, measure = 'rmse', verbose = False)"
   ]
  },
  {
   "cell_type": "code",
   "execution_count": 9,
   "metadata": {},
   "outputs": [
    {
     "name": "stdout",
     "output_type": "stream",
     "text": [
      "Best lambda: 0.1; \n",
      "Best rank: 5\n"
     ]
    }
   ],
   "source": [
    "# saving parameters\n",
    "#als_best_params = als.best_params\n",
    "#pickle.dump(als_best_params, open( \"../output/als_best_params.p\", \"wb\" ))\n",
    "als_best_params = pickle.load(open( \"../output/als_best_params.p\", \"rb\" ))\n",
    "print(\"Best lambda: {}; \\nBest rank: {}\".format(als_best_params[1], als_best_params[0]))"
   ]
  },
  {
   "cell_type": "code",
   "execution_count": 10,
   "metadata": {},
   "outputs": [
    {
     "name": "stdout",
     "output_type": "stream",
     "text": [
      "Total time: 21.0957s\n"
     ]
    }
   ],
   "source": [
    "# training best model\n",
    "als.fit(train_data, rank = als_best_params[0], reg = als_best_params[1],elapse = True)"
   ]
  },
  {
   "cell_type": "code",
   "execution_count": 11,
   "metadata": {},
   "outputs": [
    {
     "name": "stdout",
     "output_type": "stream",
     "text": [
      "1.3086509715004353\n"
     ]
    }
   ],
   "source": [
    "als_err = als.err(test_data)\n",
    "print(als_err)"
   ]
  },
  {
   "cell_type": "markdown",
   "metadata": {},
   "source": [
    "## NMF"
   ]
  },
  {
   "cell_type": "code",
   "execution_count": null,
   "metadata": {},
   "outputs": [],
   "source": []
  }
 ],
 "metadata": {
  "kernelspec": {
   "display_name": "Python 3",
   "language": "python",
   "name": "python3"
  },
  "language_info": {
   "codemirror_mode": {
    "name": "ipython",
    "version": 3
   },
   "file_extension": ".py",
   "mimetype": "text/x-python",
   "name": "python",
   "nbconvert_exporter": "python",
   "pygments_lexer": "ipython3",
   "version": "3.7.4"
  }
 },
 "nbformat": 4,
 "nbformat_minor": 2
}
