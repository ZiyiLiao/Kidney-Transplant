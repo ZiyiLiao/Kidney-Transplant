{
 "cells": [
  {
   "cell_type": "code",
   "execution_count": 3,
   "metadata": {},
   "outputs": [],
   "source": [
    "from ALS import ALS\n",
    "from SGD import SGD"
   ]
  },
  {
   "cell_type": "code",
   "execution_count": 4,
   "metadata": {},
   "outputs": [
    {
     "name": "stdout",
     "output_type": "stream",
     "text": [
      "Total time: 0.1513s\n",
      "0.037193372736217145\n"
     ]
    }
   ],
   "source": [
    "func = SGD('../data/ratings.csv',sample = True)\n",
    "trainset, testset = func.split(0.25)\n",
    "#func.gridParams(num_epoch = [10,20], reg = [0.2,0.4], lr = [0.001,0.005], rank = [10,20])\n",
    "#func.tuningParams(trainset, verbose = True)\n",
    "func.fit(trainset, elapse = True)\n",
    "print(func.err(trainset, measure = 'rmse'))\n",
    "#print(\"Best learning rate: {}; Best lambda: {}; Best rank: {}; Best number of epoch: {}\".format(func.best_params[1],func.best_params[2], func.best_params[3],func.best_params[4]))"
   ]
  },
  {
   "cell_type": "code",
   "execution_count": null,
   "metadata": {},
   "outputs": [],
   "source": []
  }
 ],
 "metadata": {
  "kernelspec": {
   "display_name": "Python 3",
   "language": "python",
   "name": "python3"
  },
  "language_info": {
   "codemirror_mode": {
    "name": "ipython",
    "version": 3
   },
   "file_extension": ".py",
   "mimetype": "text/x-python",
   "name": "python",
   "nbconvert_exporter": "python",
   "pygments_lexer": "ipython3",
   "version": "3.7.4"
  }
 },
 "nbformat": 4,
 "nbformat_minor": 2
}
