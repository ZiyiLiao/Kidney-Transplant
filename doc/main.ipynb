{
 "cells": [
  {
   "cell_type": "code",
   "execution_count": 1,
   "metadata": {},
   "outputs": [],
   "source": [
    "from matplotlib import pyplot as plt\n",
    "import matplotlib.image as img \n",
    "import numpy as np\n",
    "import pickle\n",
    "import os\n",
    "os.chdir('../lib')\n",
    "from MF import *"
   ]
  },
  {
   "cell_type": "markdown",
   "metadata": {},
   "source": [
    "# Matrix Factorization"
   ]
  },
  {
   "cell_type": "markdown",
   "metadata": {},
   "source": [
    "Here, we used the latest small Movie-lens dataset to train the algorithms and compared the results.\n",
    "\n",
    "+ Data set:\n",
    "\n",
    "    610 users, 9724 movies and 100836 rating records"
   ]
  },
  {
   "cell_type": "markdown",
   "metadata": {},
   "source": [
    "## SVD"
   ]
  },
  {
   "cell_type": "code",
   "execution_count": 2,
   "metadata": {},
   "outputs": [],
   "source": [
    "# set up\n",
    "svd = MF('../data/ratings.csv')\n",
    "trainset, testset = svd.split(0.2)\n",
    "svd.kfold_split(trainset)"
   ]
  },
  {
   "cell_type": "markdown",
   "metadata": {},
   "source": [
    "###  biased SGD"
   ]
  },
  {
   "cell_type": "code",
   "execution_count": 3,
   "metadata": {
    "scrolled": true
   },
   "outputs": [],
   "source": [
    "# tuning parameters\n",
    "reg_list = [0.1,0.15,0.2,0.25]\n",
    "lr_list = [0.001,0.005, 0.01]\n",
    "rank_list = [5,10,20]\n",
    "svd.gridParams(algo = 'sgd',reg = reg_list, lr = lr_list, rank = rank_list)\n",
    "# svd.tuningParams(trainset, verbose = False)"
   ]
  },
  {
   "cell_type": "code",
   "execution_count": 4,
   "metadata": {},
   "outputs": [
    {
     "name": "stdout",
     "output_type": "stream",
     "text": [
      "Best learning rate: 0.001; \n",
      "Best lambda: 0.25; \n",
      "Best rank: 20\n"
     ]
    }
   ],
   "source": [
    "# save the best parameters\n",
    "sgd_best_params = sgd.best_params\n",
    "pickle.dump(sgd_best_params, open( \"../output/sgd_best_params.p\", \"wb\" ))\n",
    "# sgd_best_params = pickle.load(open( \"../output/sgd_best_params.p\", \"rb\" ))\n",
    "print(\"Best learning rate: {}; \\nBest lambda: {}; \\nBest rank: {}\".format(sgd_best_params[0],sgd_best_params[1], sgd_best_params[2]))"
   ]
  },
  {
   "cell_type": "code",
   "execution_count": 5,
   "metadata": {},
   "outputs": [
    {
     "name": "stdout",
     "output_type": "stream",
     "text": [
      "Total time: 71.9886s\n"
     ]
    }
   ],
   "source": [
    "# SGD best model\n",
    "svd.sgd(trainset, lr = sgd_best_params[0] ,reg = sgd_best_params[1], rank = sgd_best_params[2],elapse = True)\n",
    "pickle.dump(svd, open( \"../output/sgd_best_model.p\", \"wb\" ))"
   ]
  },
  {
   "cell_type": "code",
   "execution_count": 6,
   "metadata": {},
   "outputs": [
    {
     "name": "stdout",
     "output_type": "stream",
     "text": [
      "0.018424169002607085\n"
     ]
    }
   ],
   "source": [
    "# test error\n",
    "sgd_err = svd.err(testset, measure = 'rmse')\n",
    "print(sgd_err)"
   ]
  },
  {
   "cell_type": "code",
   "execution_count": 7,
   "metadata": {},
   "outputs": [
    {
     "data": {
      "image/png": "[encoded data removed]",
      "text/plain": [
       "<Figure size 432x288 with 1 Axes>"
      ]
     },
     "metadata": {
      "needs_background": "light"
     },
     "output_type": "display_data"
    },
    {
     "name": "stdout",
     "output_type": "stream",
     "text": [
      "best K for SGD-KNN: 84\n"
     ]
    }
   ],
   "source": [
    "# find best K\n",
    "K_err = []\n",
    "K_num = [i for i in range(1,100)]\n",
    "for k in K_num:\n",
    "    K_err.append(svd.KNN(train = trainset, test = trainset, K = k))\n",
    "plt.plot(K_num, K_err)\n",
    "plt.xlabel(\"number of neighbors\") \n",
    "plt.ylabel(\"Testing RMSE\")\n",
    "plt.title(\"Testing RMSE for K from 1 to 100\")\n",
    "plt.grid()\n",
    "plt.savefig('../output/SGD-KNN.png', dpi=300, bbox_inches='tight')\n",
    "plt.show()\n",
    "sgd_best_K = np.argmin(K_err)+2\n",
    "pickle.dump(sgd_best_K, open( \"../output/sgd_knn_bestK.p\", \"wb\" ))\n",
    "# sgd_best_K = pickle.load(open( \"../output/sgd_knn_bestK.p\", \"rb\" ))\n",
    "print(\"best K for SGD-KNN: {}\".format(sgd_best_K))"
   ]
  },
  {
   "cell_type": "code",
   "execution_count": 8,
   "metadata": {},
   "outputs": [
    {
     "name": "stdout",
     "output_type": "stream",
     "text": [
      "0.0035207775636804306\n"
     ]
    }
   ],
   "source": [
    "# prediction error with KNN\n",
    "sgd_knn_err = svd.KNN(train = trainset, test = testset, K = sgd_best_K)\n",
    "print(sgd_knn_err)"
   ]
  },
  {
   "cell_type": "markdown",
   "metadata": {},
   "source": [
    "### ALS"
   ]
  },
  {
   "cell_type": "code",
   "execution_count": 10,
   "metadata": {},
   "outputs": [],
   "source": [
    "# tuning parameters\n",
    "reg_list = [0.1,0.15,0.2,0.25]\n",
    "rank_list = [5,10,20]\n",
    "svd.gridParams(algo = 'als',reg = reg_list, rank = rank_list)\n",
    "svd.tuningParams(trainset, measure = 'rmse', verbose = False)"
   ]
  },
  {
   "cell_type": "code",
   "execution_count": 11,
   "metadata": {},
   "outputs": [
    {
     "name": "stdout",
     "output_type": "stream",
     "text": [
      "Best lambda: 0.1; \n",
      "Best rank: 5\n"
     ]
    }
   ],
   "source": [
    "# save parameters\n",
    "als_best_params = als.best_params\n",
    "pickle.dump(als_best_params, open( \"../output/als_best_params.p\", \"wb\" ))\n",
    "# als_best_params = pickle.load(open( \"../output/als_best_params.p\", \"rb\" ))\n",
    "print(\"Best lambda: {}; \\nBest rank: {}\".format(als_best_params[1], als_best_params[0]))"
   ]
  },
  {
   "cell_type": "code",
   "execution_count": 12,
   "metadata": {},
   "outputs": [
    {
     "name": "stdout",
     "output_type": "stream",
     "text": [
      "Total time: 20.8529s\n"
     ]
    }
   ],
   "source": [
    "# training best ALS model\n",
    "svd.als(trainset, rank = als_best_params[0], reg = als_best_params[1],elapse = True)\n",
    "pickle.dump(svd, open( \"../output/als_best_model.p\", \"wb\" ))"
   ]
  },
  {
   "cell_type": "code",
   "execution_count": 13,
   "metadata": {},
   "outputs": [
    {
     "name": "stdout",
     "output_type": "stream",
     "text": [
      "1.3086509715004353\n"
     ]
    }
   ],
   "source": [
    "# calculate test error\n",
    "als_err = svd.err(testset, measure = 'rmse')\n",
    "print(als_err)"
   ]
  },
  {
   "cell_type": "code",
   "execution_count": 15,
   "metadata": {},
   "outputs": [
    {
     "data": {
      "image/png": "[encoded data removed]",
      "text/plain": [
       "<Figure size 432x288 with 1 Axes>"
      ]
     },
     "metadata": {
      "needs_background": "light"
     },
     "output_type": "display_data"
    },
    {
     "name": "stdout",
     "output_type": "stream",
     "text": [
      "best K for ALS-KNN: 5\n"
     ]
    }
   ],
   "source": [
    "# find best K\n",
    "K_err = []\n",
    "K_num = [i for i in range(1,100)]\n",
    "for k in K_num:\n",
    "    K_err.append(svd.KNN(train = trainset, test = trainset, K = k))\n",
    "plt.plot(K_num, K_err)\n",
    "plt.xlabel(\"number of neighbors\") \n",
    "plt.ylabel(\"Testing RMSE\")\n",
    "plt.title(\"Testing RMSE for K from 1 to 100\")\n",
    "plt.grid()\n",
    "plt.savefig('../output/ALS-KNN_train.png', dpi=300, bbox_inches='tight')\n",
    "plt.show()\n",
    "best_K = np.argmin(K_err)+2\n",
    "pickle.dump(best_K, open( \"../output/als_knn_bestK.p\", \"wb\" ))\n",
    "# best_K = pickle.load(open( \"../output/als_knn_bestK.p\", \"rb\" ))\n",
    "print(\"best K for ALS-KNN: {}\".format(best_K))"
   ]
  },
  {
   "cell_type": "code",
   "execution_count": 16,
   "metadata": {},
   "outputs": [
    {
     "name": "stdout",
     "output_type": "stream",
     "text": [
      "0.010562332691041293\n"
     ]
    }
   ],
   "source": [
    "# prediction error with KNN\n",
    "als_knn_err = svd.KNN(train = trainset, test = testset, K = sgd_best_K)\n",
    "print(als_knn_err)"
   ]
  }
 ],
 "metadata": {
  "kernelspec": {
   "display_name": "Python 3",
   "language": "python",
   "name": "python3"
  },
  "language_info": {
   "codemirror_mode": {
    "name": "ipython",
    "version": 3
   },
   "file_extension": ".py",
   "mimetype": "text/x-python",
   "name": "python",
   "nbconvert_exporter": "python",
   "pygments_lexer": "ipython3",
   "version": "3.7.4"
  }
 },
 "nbformat": 4,
 "nbformat_minor": 2
}
