{
 "cells": [
  {
   "cell_type": "code",
   "execution_count": 4,
   "metadata": {},
   "outputs": [],
   "source": [
    "import os\n",
    "os.chdir('../lib')\n",
    "from SVD import *\n",
    "import pickle"
   ]
  },
  {
   "cell_type": "markdown",
   "metadata": {},
   "source": [
    "### SGD new"
   ]
  },
  {
   "cell_type": "code",
   "execution_count": 264,
   "metadata": {},
   "outputs": [],
   "source": [
    "import pandas as pd\n",
    "import numpy as np\n",
    "import itertools\n",
    "from matplotlib import pyplot as plt\n",
    "from sklearn.model_selection import train_test_split\n",
    "from sklearn.model_selection import KFold\n",
    "from sklearn.metrics import pairwise_distances\n",
    "import time\n",
    "\n",
    "\n",
    "class mfData:\n",
    "\n",
    "    \"\"\"\n",
    "    The class for changing data to a format fit ALS algorithm\n",
    "    \"\"\"\n",
    "    def __init__(self, data, R0):\n",
    "\n",
    "    # Q : the user-item matrix based on given data\n",
    "    # R : 1 means the data contains user_u to item_i rating, while 0 means doesn't contain\n",
    "        self.data = data\n",
    "        self.R0 = R0\n",
    "        self.ratings = [(uid, iid, float(r)) for (uid, iid, r) in data.itertuples(index=False)]\n",
    "        self.Q, self.R = self._prepare_QR(self.data)\n",
    "\n",
    "    # def __init__(self, data):\n",
    "    #     self.raw = data\n",
    "    #     self.ratings = [(uid, iid, float(r)) for (uid, iid, r) in data.itertuples(index=False)]\n",
    "        \n",
    "\n",
    "    def _prepare_QR(self, data):\n",
    "        temp = self.R0.copy()\n",
    "        for u, i, r in self.ratings:\n",
    "            temp[i][u] = r\n",
    "\n",
    "        Q = temp.values\n",
    "        R = (Q > 0) *1\n",
    "        return Q, R\n",
    "\n",
    "\n",
    "class MF:\n",
    "    \"\"\"\n",
    "    The class for performing matrix factorization with Singular Vector Deviation\n",
    "\n",
    "\n",
    "    Methods for Singular Vector Deviation:\n",
    "        1. Stochastic Gradient Descent\n",
    "        2. Alternating Least Squares\n",
    "\n",
    "    Mesures for evaluation:\n",
    "        1. RMSE: root mean square error\n",
    "        2. MAE : mean absolute error\n",
    "\n",
    "    \"\"\"\n",
    "\n",
    "    def __init__(self,data_dir, sample = False):\n",
    "        \n",
    "        \"\"\"\n",
    "        Attributes:\n",
    "            mean: global mean for rating\n",
    "            bu  : bias associates with users' rating \n",
    "            bi  : bias associates with items' rating\n",
    "            p   : user-matrix\n",
    "            q   : item-matrix\n",
    "        \"\"\"\n",
    "\n",
    "        self.df = pd.read_csv(data_dir)\n",
    "        del self.df['timestamp']\n",
    "        if sample:\n",
    "            self.df = self.df[0:1000]\n",
    "        \n",
    "        self.mean = np.mean(self.df['rating'])\n",
    "        self.user_count = len(self.df['userId'].unique())\n",
    "        self.item_count = len(self.df['movieId'].unique())\n",
    "\n",
    "        self.data = (self.df.pivot(index='userId', columns='movieId', values='rating')).fillna(0)\n",
    "        # user-item matrix\n",
    "        self.Q = self.data.values\n",
    "        self.R0 = self.data * 0\n",
    "        self._bu = None\n",
    "        self._bi = None\n",
    "        self.p = None\n",
    "        self.q = None\n",
    "        self.item_dict = None\n",
    "\n",
    "        self._K = None\n",
    "        self.error = None\n",
    "        self._trainsets = None\n",
    "        self._testsets = None\n",
    "        self.params = None\n",
    "        self.best_params = None\n",
    "\n",
    "\n",
    "\n",
    "    def split(self,test_size, seed = 0):\n",
    "        train_data, test_data = train_test_split(self.df, test_size = test_size, random_state = seed)\n",
    "        train_data = mfData(train_data, self.R0)\n",
    "        test_data = mfData(test_data, self.R0)\n",
    "        self._trainsets = [train_data]\n",
    "        self._testsets = [test_data]\n",
    "        return train_data , test_data\n",
    "    \n",
    "    def sgd(self, data, lr = 0.005,reg = 0.4, rank = 10, num_epoch = 10, seed = 0 , stopping_driv = 0.001, measure = 'rmse', elapse = False):\n",
    "        \"\"\"\n",
    "        A method to perform matrix factorization using Stochastic Gradient Descent\n",
    "\n",
    "        lr        : learning rate, Defalt: 10\n",
    "        reg       : regularization parameter: lambda, Defalt: 0.4\n",
    "        rank      : number of latent variables, Default : 10\n",
    "        num_epoch : number of iteration of the SGD procedure, Default:10\n",
    "        seed      : seed of calling random state\n",
    "        \"\"\"\n",
    "        self._algo = 'sgd'\n",
    "        \n",
    "        tmp1 = self.df['movieId'].unique()\n",
    "        self.item_dict = dict(zip(tmp1,[i for i in range(self.item_count)]))\n",
    "            \n",
    "        # initialize user matrix and item matrix\n",
    "        np.random.seed(seed)\n",
    "        p = np.random.normal(2.5,1, size = (self.user_count, rank))\n",
    "        q = np.random.normal(2.5,1, size = (self.item_count, rank))\n",
    "\n",
    "        # initialize bias\n",
    "        bu = np.zeros(self.user_count)\n",
    "        bi = np.zeros(self.item_count)\n",
    "\n",
    "        start_time = time.time()\n",
    "        for this_epoch in range(num_epoch):\n",
    "            \n",
    "            for uid, mid, r in data.ratings:\n",
    "                u = uid - 1\n",
    "                i = self.item_dict[mid]\n",
    "\n",
    "                # prediction\n",
    "                pred = self.mean + bu[u] + bi[i] + np.dot(p[u,:], q[i,:])          \n",
    "                err = r - pred\n",
    "                    \n",
    "                # update bias\n",
    "                deriv =(err - reg * bu[u])\n",
    "                if(np.abs(deriv) > stopping_driv):\n",
    "                    bu[u] += lr * deriv\n",
    "                deriv = (err - reg * bi[i])\n",
    "                if(np.abs(deriv) > stopping_driv):\n",
    "                    bi[i] += lr * deriv\n",
    "\n",
    "                for f in range(rank):\n",
    "                    puf = p[u,f]\n",
    "                    qif = q[i,f]\n",
    "                    deriv = (err * qif - reg * puf)\n",
    "                    if(np.abs(deriv) > stopping_driv):\n",
    "                        p[u,f]  += lr * deriv\n",
    "                    deriv = (err * puf - reg * qif)\n",
    "                    if(np.abs(deriv) > stopping_driv):\n",
    "                        q[i,f]  += lr * deriv\n",
    "        end_time = time.time()\n",
    "        last = round((end_time - start_time), 4)\n",
    "        if elapse:\n",
    "            print(\"Total time: {}s\".format(last))\n",
    "                    \n",
    "        # update the instance variariables\n",
    "        self.bu = bu\n",
    "        self.bi = bi\n",
    "        self.p = p\n",
    "        self.q = q\n",
    "        self.error = self.err(data, measure)\n",
    "        \n",
    " \n",
    "        \n",
    "    def als(self, data, rank = 10, reg = 0.1, num_epoch = 10, measure = 'rmse', elapse = False):\n",
    "        \"\"\"\n",
    "        A method to perform matrix factorization using Alternating Least Square\n",
    "\n",
    "        data      : An mfData format\n",
    "        reg       : regularization parameter: lambda, Defalt: 0.4\n",
    "        rank      : number of latent variables, Default : 10\n",
    "        num_epoch : number of iteration of the SGD procedure, Default:10\n",
    "        measure   : evaluation method\n",
    "        elapse    : if true, print the time of fitting \n",
    "\n",
    "        \"\"\"\n",
    "        self._algo = 'als'\n",
    "        I = np.eye(rank)\n",
    "        np.random.seed(0)\n",
    "        p = np.random.normal(2.5,1, size = (self.Q.shape[0], rank))\n",
    "        q = np.random.normal(2.5,1, size = (self.Q.shape[1],rank))\n",
    "\n",
    "        start_time = time.time()\n",
    "        for this_epoch in range(num_epoch):\n",
    "\n",
    "            for u, Iu in enumerate(data.R):\n",
    "                j = np.nonzero(Iu)[0]\n",
    "                nu = sum(Iu)\n",
    "                if nu != 0:\n",
    "                    A = q[j,:].T.dot(q[j,:]) + nu * reg * I\n",
    "                    r = data.Q[u][data.Q[u]!=0]\n",
    "                    V = q[j,:].T.dot(r.T)\n",
    "                    p[u,:] = np.dot(np.linalg.inv(A), V)\n",
    "\n",
    "            for i, Ii in enumerate(data.R.T):\n",
    "                j = np.nonzero(Ii)[0]\n",
    "                ni = sum(Ii)\n",
    "                if ni != 0:\n",
    "                    A = p[j,:].T.dot(p[j,:]) + ni * reg * I\n",
    "                    r = data.Q.T[i][data.Q.T[i]!=0]\n",
    "                    V = p[j,:].T.dot(r) \n",
    "                    q[i,:] = np.dot(np.linalg.inv(A), V)\n",
    "        end_time = time.time()\n",
    "        last = round((end_time - start_time), 4)\n",
    "        if elapse:\n",
    "             print(\"Total time: {}s\".format(last))\n",
    "        self.q = q\n",
    "        self.p = p\n",
    "        self.error = self.err(data, measure)\n",
    "        \n",
    "    def err(self, data, measure = 'rmse'):\n",
    "        \"\"\"A method to calculate loss\"\"\"\n",
    "        if self._algo == 'sgd':\n",
    "            err = 0\n",
    "            for uid, mid, r in data.ratings:\n",
    "                u = uid - 1\n",
    "                i = self.item_dict[mid]\n",
    "\n",
    "                if measure == 'rmse':\n",
    "                    # prediction\n",
    "                    err += (r- self.mean - self.bu[u] - self.bi[i]- np.dot(self.p[u,:], self.q[i,:]))**2\n",
    "                    return np.sqrt(err/len(data.ratings))\n",
    "                if measure == 'mae':                \n",
    "                    return err/len(data.ratings)\n",
    "        if self._algo == 'als':\n",
    "            if measure == 'rmse':\n",
    "                loss = np.sum((data.R * (self.Q - np.dot(self.p, self.q.T))) ** 2)/ np.sum(data.R)\n",
    "                return np.sqrt(loss)\n",
    "            if measure == 'mae':\n",
    "                loss = np.sum(np.abs(data.R * (self.Q - np.dot(self.p, self.q.T))))/ np.sum(data.R) \n",
    "                return loss\n",
    "\n",
    "\n",
    "    def kfold_split(self, svd_data, K = 3,seed = 0):\n",
    "        kf = KFold(n_splits= K, random_state = seed, shuffle = True)\n",
    "        trainsets = []\n",
    "        testsets = []\n",
    "        self._K = K\n",
    "        \n",
    "        for train_index, test_index in kf.split(svd_data.data):\n",
    "            trainset = svd_data.data.iloc[train_index,:]\n",
    "            testset = svd_data.data.iloc[test_index,:]\n",
    "            \n",
    "            trainsets.append(mfData(trainset,self.R0))\n",
    "            testsets.append(mfData(testset,self.R0))\n",
    "        self._trainsets = trainsets\n",
    "        self._testsets = testsets\n",
    "        \n",
    "    def cv(self, data, measure,lr = 0.005, reg = 0.4, rank = 10, num_epoch = 10, verbose = True, plot = False, seed = 0):\n",
    "        \"\"\"A method fo perform cross-validation\"\"\"\n",
    "    \n",
    "        train_err= [0] * self._K\n",
    "        test_err = [0] * self._K\n",
    "\n",
    "        \n",
    "        for k in range(self._K):\n",
    "            if self._algo == 'sgd':\n",
    "                self.sgd(self._trainsets[k], lr = lr,reg = reg,rank = rank,num_epoch = num_epoch)\n",
    "            if self._algo == 'als':\n",
    "                self.als(self._trainsets[k], rank = rank, num_epoch = num_epoch, measure = measure)\n",
    "            train_err[k] = self.error\n",
    "            test_err[k] = self.err(self._testsets[k], measure)\n",
    "            if verbose:\n",
    "                print(\"Train {} : {}   Cross-Validation {} : {}\".format(measure, round(train_err[k],4), measure, round(test_err[k],4)))\n",
    "            \n",
    "        if plot:\n",
    "            x = np.arange(K) + 1\n",
    "            plt.title(\"Train error and cross-validation error\")\n",
    "            plt.plot(x,train_err, label = \"train error\") \n",
    "            plt.plot(x,test_err, label = \"cv error\") \n",
    "            plt.xlabel(\"number of folds\")\n",
    "            plt.ylabel(\"{}\".format(measure))\n",
    "            plt.legend()\n",
    "            plt.show()\n",
    "        \n",
    "        return np.amin(test_err)\n",
    "    \n",
    "    def gridParams(self, algo, lr = [0.005], reg = [0.4] ,rank = [10], num_epoch = [10]):\n",
    "        params = []\n",
    "        self._algo = algo\n",
    "\n",
    "        if self._algo == 'als':\n",
    "            for rk, r, np in itertools.product(rank, reg, num_epoch):\n",
    "                params.append((rk, r, np))\n",
    "        else:\n",
    "            for l, r, rk, np in itertools.product(lr, reg, rank, num_epoch):\n",
    "                params.append((l, r, rk, np))\n",
    "\n",
    "        self.params = params\n",
    "\n",
    "    def tuningParams(self,data, K = 3, measure = 'rmse',verbose = False):\n",
    "        loss = []\n",
    "        self.kfold_split(data, K= K)\n",
    "        for comb in self.params: \n",
    "            if self._algo == 'sgd':\n",
    "                err = self.cv(data, measure = measure, lr = comb[0], reg = comb[1], rank = comb[2], num_epoch = comb[3], verbose = verbose)\n",
    "            if self._algo == 'als':\n",
    "                err = self.cv(data, measure = measure, reg = comb[1], rank = comb[0], num_epoch = comb[2], verbose = verbose)\n",
    "            loss.append(err)\n",
    "            if verbose:\n",
    "                print(\"stage {}\".format(comb))\n",
    "                print(\"Min cv err: {}\".format(err))\n",
    "\n",
    "        idx = np.argmin(loss)\n",
    "        self.best_score = loss[idx]\n",
    "        self.best_params = self.params[idx]\n",
    "        \n",
    "    def KNN(self, train, test, K = 5, measure = 'rmse', elapse = False):\n",
    "        sim = pairwise_distances(self.q, metric = \"cosine\")\n",
    "        err = 0\n",
    "        start_time = time.time()\n",
    "        for uid, mid, r in test.ratings:\n",
    "            u = uid - 1\n",
    "            i = self.item_dict[mid]\n",
    "\n",
    "            neighbors_idx = np.argsort(sim[i])\n",
    "            neighbor_rating = np.trim_zeros(train.Q[u,neighbors_idx])[0:K]\n",
    "            est = sum(neighbor_rating)/np.count_nonzero(neighbor_rating)\n",
    "            if measure == 'rmse':\n",
    "                err += (r - est) **2\n",
    "                return np.sqrt(err/len(test.ratings))\n",
    "            elif measure == 'mae':\n",
    "                err += np.abs(r - est)\n",
    "                return err/len(test.ratings)\n",
    "        last = time.time() - start_time\n",
    "        if elapse:\n",
    "            print(\"KNN predict time: {}s\".format(last))\n",
    "    "
   ]
  },
  {
   "cell_type": "markdown",
   "metadata": {},
   "source": [
    "## Test"
   ]
  },
  {
   "cell_type": "code",
   "execution_count": 284,
   "metadata": {},
   "outputs": [],
   "source": [
    "import pickle\n",
    "svd = MF('../data/ratings.csv')\n",
    "trainset, testset = svd.split(0.2)\n",
    "svd.kfold_split(trainset)"
   ]
  },
  {
   "cell_type": "markdown",
   "metadata": {},
   "source": [
    "### SGD"
   ]
  },
  {
   "cell_type": "code",
   "execution_count": 266,
   "metadata": {},
   "outputs": [],
   "source": [
    "svd.sgd(trainset)"
   ]
  },
  {
   "cell_type": "code",
   "execution_count": 267,
   "metadata": {},
   "outputs": [
    {
     "data": {
      "text/plain": [
       "0.17723274833565997"
      ]
     },
     "execution_count": 267,
     "metadata": {},
     "output_type": "execute_result"
    }
   ],
   "source": [
    "svd.err(testset)"
   ]
  },
  {
   "cell_type": "code",
   "execution_count": 268,
   "metadata": {},
   "outputs": [
    {
     "name": "stdout",
     "output_type": "stream",
     "text": [
      "Train rmse : 0.0237   Cross-Validation rmse : 0.1238\n",
      "Train rmse : 0.018   Cross-Validation rmse : 0.0605\n",
      "Train rmse : 0.0335   Cross-Validation rmse : 0.0042\n"
     ]
    },
    {
     "data": {
      "text/plain": [
       "0.004169835015703391"
      ]
     },
     "execution_count": 268,
     "metadata": {},
     "output_type": "execute_result"
    }
   ],
   "source": [
    "svd.cv(trainset, 'rmse')"
   ]
  },
  {
   "cell_type": "code",
   "execution_count": 269,
   "metadata": {},
   "outputs": [],
   "source": [
    "reg_list = [0.1,0.15]\n",
    "rank_list = [5,10]\n",
    "svd.gridParams(algo = 'sgd',reg = reg_list, rank = rank_list)"
   ]
  },
  {
   "cell_type": "code",
   "execution_count": 270,
   "metadata": {},
   "outputs": [
    {
     "name": "stdout",
     "output_type": "stream",
     "text": [
      "Train rmse : 0.0442   Cross-Validation rmse : 0.1114\n",
      "Train rmse : 0.0344   Cross-Validation rmse : 0.0832\n",
      "Train rmse : 0.0424   Cross-Validation rmse : 0.0442\n",
      "stage (0.005, 0.1, 5, 10)\n",
      "Min cv err: 0.04422002765081479\n",
      "Train rmse : 0.0146   Cross-Validation rmse : 0.1307\n",
      "Train rmse : 0.0117   Cross-Validation rmse : 0.06\n",
      "Train rmse : 0.0258   Cross-Validation rmse : 0.0214\n",
      "stage (0.005, 0.1, 10, 10)\n",
      "Min cv err: 0.021421909866581008\n",
      "Train rmse : 0.0455   Cross-Validation rmse : 0.1119\n",
      "Train rmse : 0.0358   Cross-Validation rmse : 0.0827\n",
      "Train rmse : 0.0436   Cross-Validation rmse : 0.0432\n",
      "stage (0.005, 0.15, 5, 10)\n",
      "Min cv err: 0.0431650630538161\n",
      "Train rmse : 0.0171   Cross-Validation rmse : 0.1292\n",
      "Train rmse : 0.0136   Cross-Validation rmse : 0.06\n",
      "Train rmse : 0.0281   Cross-Validation rmse : 0.0156\n",
      "stage (0.005, 0.15, 10, 10)\n",
      "Min cv err: 0.015618168619160116\n"
     ]
    }
   ],
   "source": [
    "svd.tuningParams(trainset, verbose = True)"
   ]
  },
  {
   "cell_type": "code",
   "execution_count": 271,
   "metadata": {},
   "outputs": [
    {
     "data": {
      "text/plain": [
       "(0.005, 0.15, 10, 10)"
      ]
     },
     "execution_count": 271,
     "metadata": {},
     "output_type": "execute_result"
    }
   ],
   "source": [
    "svd.best_params"
   ]
  },
  {
   "cell_type": "code",
   "execution_count": 316,
   "metadata": {},
   "outputs": [
    {
     "name": "stdout",
     "output_type": "stream",
     "text": [
      "Total time: 71.6692s\n"
     ]
    }
   ],
   "source": [
    "sgd_best_params = pickle.load(open( \"../output/sgd_best_params.p\", \"rb\" ))\n",
    "svd.sgd(trainset, lr = sgd_best_params[0] ,reg = sgd_best_params[1], rank = sgd_best_params[2],elapse = True)"
   ]
  },
  {
   "cell_type": "code",
   "execution_count": 317,
   "metadata": {},
   "outputs": [
    {
     "data": {
      "text/plain": [
       "0.018424169002607085"
      ]
     },
     "execution_count": 317,
     "metadata": {},
     "output_type": "execute_result"
    }
   ],
   "source": [
    "# previous test error\n",
    "svd.err(testset)"
   ]
  },
  {
   "cell_type": "code",
   "execution_count": 287,
   "metadata": {},
   "outputs": [
    {
     "data": {
      "text/plain": [
       "0.007041555127360861"
      ]
     },
     "execution_count": 287,
     "metadata": {},
     "output_type": "execute_result"
    }
   ],
   "source": [
    "# KNN test error\n",
    "svd.KNN(train = trainset, test = testset)"
   ]
  },
  {
   "cell_type": "code",
   "execution_count": 318,
   "metadata": {},
   "outputs": [],
   "source": [
    "# find best K\n",
    "K_err = []\n",
    "K_num = [i for i in range(1,100)]\n",
    "for k in K_num:\n",
    "    K_err.append(svd.KNN(train = trainset, test = testset, K = k))"
   ]
  },
  {
   "cell_type": "code",
   "execution_count": 321,
   "metadata": {},
   "outputs": [
    {
     "data": {
      "image/png": "[encoded data removed]",
      "text/plain": [
       "<Figure size 432x288 with 1 Axes>"
      ]
     },
     "metadata": {
      "needs_background": "light"
     },
     "output_type": "display_data"
    },
    {
     "name": "stdout",
     "output_type": "stream",
     "text": [
      "best K for KNN: 25\n"
     ]
    }
   ],
   "source": [
    "plt.plot(K_num, K_err)\n",
    "plt.xlabel(\"number of neighbors\") \n",
    "plt.ylabel(\"Testing RMSE\")\n",
    "plt.title(\"Testing RMSE for K from 1 to 100 -- SGD\")\n",
    "plt.grid()\n",
    "plt.savefig('../output/SGD-KNN.png')\n",
    "plt.show()\n",
    "best_K = np.argmin(K_err)+2\n",
    "print(\"best K for KNN: {}\".format(best_K))"
   ]
  },
  {
   "cell_type": "code",
   "execution_count": 310,
   "metadata": {},
   "outputs": [
    {
     "data": {
      "text/plain": [
       "<Figure size 432x288 with 0 Axes>"
      ]
     },
     "metadata": {},
     "output_type": "display_data"
    }
   ],
   "source": []
  },
  {
   "cell_type": "code",
   "execution_count": 306,
   "metadata": {},
   "outputs": [
    {
     "data": {
      "image/png": "[encoded data removed]",
      "text/plain": [
       "<Figure size 432x288 with 1 Axes>"
      ]
     },
     "metadata": {
      "needs_background": "light"
     },
     "output_type": "display_data"
    }
   ],
   "source": [
    "x = [0, 2, 4, 6]\n",
    "y = [1, 3, 4, 8]\n",
    "\n",
    "\n",
    "plt.plot(x,y)\n",
    "\n",
    "\n",
    "plt.xlabel('x values')\n",
    "plt.ylabel('y values')\n",
    "plt.title('plotted x and y values')\n",
    "plt.legend(['line 1'])\n",
    "\n",
    "\n",
    "# save the figure\n",
    "plt.savefig('plot.png', dpi=300, bbox_inches='tight')\n",
    "\n",
    "\n",
    "plt.show()"
   ]
  },
  {
   "cell_type": "code",
   "execution_count": 301,
   "metadata": {},
   "outputs": [
    {
     "data": {
      "text/plain": [
       "0.007041555127360861"
      ]
     },
     "execution_count": 301,
     "metadata": {},
     "output_type": "execute_result"
    }
   ],
   "source": [
    "K_err[best_K+2]"
   ]
  },
  {
   "cell_type": "markdown",
   "metadata": {},
   "source": [
    "### ALS"
   ]
  },
  {
   "cell_type": "code",
   "execution_count": 274,
   "metadata": {},
   "outputs": [
    {
     "data": {
      "text/plain": [
       "0.20669180324316216"
      ]
     },
     "execution_count": 274,
     "metadata": {},
     "output_type": "execute_result"
    }
   ],
   "source": [
    "svd.als(trainset)\n",
    "svd.error"
   ]
  },
  {
   "cell_type": "code",
   "execution_count": 275,
   "metadata": {},
   "outputs": [
    {
     "data": {
      "text/plain": [
       "4.522689341988216"
      ]
     },
     "execution_count": 275,
     "metadata": {},
     "output_type": "execute_result"
    }
   ],
   "source": [
    "svd.err(testset)"
   ]
  },
  {
   "cell_type": "code",
   "execution_count": 276,
   "metadata": {},
   "outputs": [],
   "source": [
    "reg_list = [0.1,0.15]\n",
    "rank_list = [5,10]\n",
    "svd.gridParams(algo = 'als',reg = reg_list, rank = rank_list)"
   ]
  },
  {
   "cell_type": "code",
   "execution_count": 118,
   "metadata": {},
   "outputs": [
    {
     "data": {
      "text/plain": [
       "[(5, 0.1, 10), (5, 0.15, 10), (10, 0.1, 10), (10, 0.15, 10)]"
      ]
     },
     "execution_count": 118,
     "metadata": {},
     "output_type": "execute_result"
    }
   ],
   "source": [
    "svd.params"
   ]
  },
  {
   "cell_type": "code",
   "execution_count": 278,
   "metadata": {},
   "outputs": [
    {
     "name": "stdout",
     "output_type": "stream",
     "text": [
      "Train rmse : 0.1868   Cross-Validation rmse : 3.3555\n",
      "Train rmse : 0.1855   Cross-Validation rmse : 3.144\n",
      "Train rmse : 0.1876   Cross-Validation rmse : 3.3852\n",
      "stage (5, 0.1, 10)\n",
      "Min cv err: 3.1439746591189657\n",
      "Train rmse : 0.1868   Cross-Validation rmse : 3.3555\n",
      "Train rmse : 0.1855   Cross-Validation rmse : 3.144\n",
      "Train rmse : 0.1876   Cross-Validation rmse : 3.3852\n",
      "stage (5, 0.15, 10)\n",
      "Min cv err: 3.1439746591189657\n",
      "Train rmse : 0.1979   Cross-Validation rmse : 4.8151\n",
      "Train rmse : 0.1934   Cross-Validation rmse : 4.7171\n",
      "Train rmse : 0.1982   Cross-Validation rmse : 5.0645\n",
      "stage (10, 0.1, 10)\n",
      "Min cv err: 4.717066037198755\n",
      "Train rmse : 0.1979   Cross-Validation rmse : 4.8151\n",
      "Train rmse : 0.1934   Cross-Validation rmse : 4.7171\n",
      "Train rmse : 0.1982   Cross-Validation rmse : 5.0645\n",
      "stage (10, 0.15, 10)\n",
      "Min cv err: 4.717066037198755\n"
     ]
    }
   ],
   "source": [
    "svd.tuningParams(trainset, verbose = True)"
   ]
  },
  {
   "cell_type": "code",
   "execution_count": 291,
   "metadata": {},
   "outputs": [
    {
     "name": "stdout",
     "output_type": "stream",
     "text": [
      "Total time: 22.0394s\n"
     ]
    }
   ],
   "source": [
    "als_best_params = pickle.load(open( \"../output/als_best_params.p\", \"rb\" ))\n",
    "svd.als(trainset, rank = als_best_params[0], reg = als_best_params[1],elapse = True)"
   ]
  },
  {
   "cell_type": "code",
   "execution_count": 298,
   "metadata": {},
   "outputs": [
    {
     "data": {
      "text/plain": [
       "0.8503713138015918"
      ]
     },
     "execution_count": 298,
     "metadata": {},
     "output_type": "execute_result"
    }
   ],
   "source": [
    "# previous test error\n",
    "svd.err(testset, measure = 'mae')"
   ]
  },
  {
   "cell_type": "code",
   "execution_count": 299,
   "metadata": {},
   "outputs": [
    {
     "data": {
      "text/plain": [
       "4.958349861166204e-05"
      ]
     },
     "execution_count": 299,
     "metadata": {},
     "output_type": "execute_result"
    }
   ],
   "source": [
    "# KNN test error\n",
    "svd.KNN(train = trainset, test = testset, measure = 'mae')"
   ]
  },
  {
   "cell_type": "code",
   "execution_count": 293,
   "metadata": {},
   "outputs": [
    {
     "data": {
      "image/png": "[encoded data removed]",
      "text/plain": [
       "<Figure size 432x288 with 1 Axes>"
      ]
     },
     "metadata": {
      "needs_background": "light"
     },
     "output_type": "display_data"
    },
    {
     "name": "stdout",
     "output_type": "stream",
     "text": [
      "best K for KNN: 2\n"
     ]
    }
   ],
   "source": [
    "# find best K\n",
    "K_err = []\n",
    "K_num = [i for i in range(1,100)]\n",
    "for k in K_num:\n",
    "    K_err.append(svd.KNN(train = trainset, test = testset, K = k))\n",
    "plt.plot(K_num, K_err)\n",
    "plt.xlabel(\"number of neighbors\") \n",
    "plt.ylabel(\"Testing RMSE\")\n",
    "plt.title(\"Testing RMSE for K from 1 to 100\")\n",
    "plt.grid()\n",
    "plt.show()\n",
    "best_K = np.argmin(K_err)+2\n",
    "print(\"best K for KNN: {}\".format(best_K))"
   ]
  },
  {
   "cell_type": "code",
   "execution_count": 297,
   "metadata": {},
   "outputs": [
    {
     "data": {
      "text/plain": [
       "0.007041555127360861"
      ]
     },
     "execution_count": 297,
     "metadata": {},
     "output_type": "execute_result"
    }
   ],
   "source": [
    "np.min(K_err)"
   ]
  }
 ],
 "metadata": {
  "kernelspec": {
   "display_name": "Python 3",
   "language": "python",
   "name": "python3"
  },
  "language_info": {
   "codemirror_mode": {
    "name": "ipython",
    "version": 3
   },
   "file_extension": ".py",
   "mimetype": "text/x-python",
   "name": "python",
   "nbconvert_exporter": "python",
   "pygments_lexer": "ipython3",
   "version": "3.7.4"
  }
 },
 "nbformat": 4,
 "nbformat_minor": 2
}
