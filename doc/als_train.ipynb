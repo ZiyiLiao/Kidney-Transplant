{
 "cells": [
  {
   "cell_type": "code",
   "execution_count": 4,
   "metadata": {},
   "outputs": [],
   "source": [
    "import os\n",
    "os.chdir('../lib')\n",
    "from SVD import *\n",
    "import pickle"
   ]
  },
  {
   "cell_type": "code",
   "execution_count": 55,
   "metadata": {},
   "outputs": [
    {
     "ename": "TypeError",
     "evalue": "__init__() takes 2 positional arguments but 3 were given",
     "output_type": "error",
     "traceback": [
      "\u001b[0;31m---------------------------------------------------------------------------\u001b[0m",
      "\u001b[0;31mTypeError\u001b[0m                                 Traceback (most recent call last)",
      "\u001b[0;32m<ipython-input-55-39bbad14156b>\u001b[0m in \u001b[0;36m<module>\u001b[0;34m\u001b[0m\n\u001b[1;32m      1\u001b[0m \u001b[0;31m# set up\u001b[0m\u001b[0;34m\u001b[0m\u001b[0;34m\u001b[0m\u001b[0;34m\u001b[0m\u001b[0m\n\u001b[1;32m      2\u001b[0m \u001b[0mals\u001b[0m \u001b[0;34m=\u001b[0m \u001b[0mALS\u001b[0m\u001b[0;34m(\u001b[0m\u001b[0;34m'../data/ratings.csv'\u001b[0m\u001b[0;34m,\u001b[0m \u001b[0;32mTrue\u001b[0m\u001b[0;34m)\u001b[0m\u001b[0;34m\u001b[0m\u001b[0;34m\u001b[0m\u001b[0m\n\u001b[0;32m----> 3\u001b[0;31m \u001b[0mtrain_data\u001b[0m\u001b[0;34m,\u001b[0m \u001b[0mtest_data\u001b[0m \u001b[0;34m=\u001b[0m \u001b[0mals\u001b[0m\u001b[0;34m.\u001b[0m\u001b[0msplit\u001b[0m\u001b[0;34m(\u001b[0m\u001b[0mtest_size\u001b[0m \u001b[0;34m=\u001b[0m \u001b[0;36m0.2\u001b[0m\u001b[0;34m)\u001b[0m\u001b[0;34m\u001b[0m\u001b[0;34m\u001b[0m\u001b[0m\n\u001b[0m",
      "\u001b[0;32m<ipython-input-38-e749cdbaa896>\u001b[0m in \u001b[0;36msplit\u001b[0;34m(self, test_size, seed)\u001b[0m\n\u001b[1;32m    283\u001b[0m         \u001b[0;34m\"\"\"A method for train_test_split\"\"\"\u001b[0m\u001b[0;34m\u001b[0m\u001b[0;34m\u001b[0m\u001b[0m\n\u001b[1;32m    284\u001b[0m         \u001b[0mtrain_data\u001b[0m\u001b[0;34m,\u001b[0m \u001b[0mtest_data\u001b[0m \u001b[0;34m=\u001b[0m \u001b[0mtrain_test_split\u001b[0m\u001b[0;34m(\u001b[0m\u001b[0mself\u001b[0m\u001b[0;34m.\u001b[0m\u001b[0mdf\u001b[0m\u001b[0;34m,\u001b[0m\u001b[0mtest_size\u001b[0m \u001b[0;34m=\u001b[0m \u001b[0mtest_size\u001b[0m\u001b[0;34m,\u001b[0m \u001b[0mrandom_state\u001b[0m \u001b[0;34m=\u001b[0m \u001b[0mseed\u001b[0m\u001b[0;34m)\u001b[0m\u001b[0;34m\u001b[0m\u001b[0;34m\u001b[0m\u001b[0m\n\u001b[0;32m--> 285\u001b[0;31m         \u001b[0mtrain_data\u001b[0m \u001b[0;34m=\u001b[0m \u001b[0msvdData\u001b[0m\u001b[0;34m(\u001b[0m\u001b[0mtrain_data\u001b[0m\u001b[0;34m,\u001b[0m \u001b[0mself\u001b[0m\u001b[0;34m.\u001b[0m\u001b[0mR0\u001b[0m\u001b[0;34m)\u001b[0m\u001b[0;34m\u001b[0m\u001b[0;34m\u001b[0m\u001b[0m\n\u001b[0m\u001b[1;32m    286\u001b[0m         \u001b[0mtest_data\u001b[0m \u001b[0;34m=\u001b[0m \u001b[0msvdData\u001b[0m\u001b[0;34m(\u001b[0m\u001b[0mtest_data\u001b[0m\u001b[0;34m,\u001b[0m \u001b[0mself\u001b[0m\u001b[0;34m.\u001b[0m\u001b[0mR0\u001b[0m\u001b[0;34m)\u001b[0m\u001b[0;34m\u001b[0m\u001b[0;34m\u001b[0m\u001b[0m\n\u001b[1;32m    287\u001b[0m         \u001b[0mself\u001b[0m\u001b[0;34m.\u001b[0m\u001b[0mtrainsets\u001b[0m \u001b[0;34m=\u001b[0m \u001b[0;34m[\u001b[0m\u001b[0mtrain_data\u001b[0m\u001b[0;34m]\u001b[0m\u001b[0;34m\u001b[0m\u001b[0;34m\u001b[0m\u001b[0m\n",
      "\u001b[0;31mTypeError\u001b[0m: __init__() takes 2 positional arguments but 3 were given"
     ]
    }
   ],
   "source": [
    "# set up\n",
    "als = ALS('../data/ratings.csv', True)\n",
    "train_data, test_data = als.split(test_size = 0.2)"
   ]
  },
  {
   "cell_type": "code",
   "execution_count": 56,
   "metadata": {},
   "outputs": [
    {
     "ename": "TypeError",
     "evalue": "__init__() takes 2 positional arguments but 3 were given",
     "output_type": "error",
     "traceback": [
      "\u001b[0;31m---------------------------------------------------------------------------\u001b[0m",
      "\u001b[0;31mTypeError\u001b[0m                                 Traceback (most recent call last)",
      "\u001b[0;32m<ipython-input-56-7c5148511a7a>\u001b[0m in \u001b[0;36m<module>\u001b[0;34m\u001b[0m\n\u001b[1;32m      1\u001b[0m \u001b[0;31m# set up\u001b[0m\u001b[0;34m\u001b[0m\u001b[0;34m\u001b[0m\u001b[0;34m\u001b[0m\u001b[0m\n\u001b[1;32m      2\u001b[0m \u001b[0mals\u001b[0m \u001b[0;34m=\u001b[0m \u001b[0mALS\u001b[0m\u001b[0;34m(\u001b[0m\u001b[0;34m'../data/ratings.csv'\u001b[0m\u001b[0;34m)\u001b[0m\u001b[0;34m\u001b[0m\u001b[0;34m\u001b[0m\u001b[0m\n\u001b[0;32m----> 3\u001b[0;31m \u001b[0mtrain_data\u001b[0m\u001b[0;34m,\u001b[0m \u001b[0mtest_data\u001b[0m \u001b[0;34m=\u001b[0m \u001b[0mals\u001b[0m\u001b[0;34m.\u001b[0m\u001b[0msplit\u001b[0m\u001b[0;34m(\u001b[0m\u001b[0mtest_size\u001b[0m \u001b[0;34m=\u001b[0m \u001b[0;36m0.2\u001b[0m\u001b[0;34m)\u001b[0m\u001b[0;34m\u001b[0m\u001b[0;34m\u001b[0m\u001b[0m\n\u001b[0m",
      "\u001b[0;32m<ipython-input-38-e749cdbaa896>\u001b[0m in \u001b[0;36msplit\u001b[0;34m(self, test_size, seed)\u001b[0m\n\u001b[1;32m    283\u001b[0m         \u001b[0;34m\"\"\"A method for train_test_split\"\"\"\u001b[0m\u001b[0;34m\u001b[0m\u001b[0;34m\u001b[0m\u001b[0m\n\u001b[1;32m    284\u001b[0m         \u001b[0mtrain_data\u001b[0m\u001b[0;34m,\u001b[0m \u001b[0mtest_data\u001b[0m \u001b[0;34m=\u001b[0m \u001b[0mtrain_test_split\u001b[0m\u001b[0;34m(\u001b[0m\u001b[0mself\u001b[0m\u001b[0;34m.\u001b[0m\u001b[0mdf\u001b[0m\u001b[0;34m,\u001b[0m\u001b[0mtest_size\u001b[0m \u001b[0;34m=\u001b[0m \u001b[0mtest_size\u001b[0m\u001b[0;34m,\u001b[0m \u001b[0mrandom_state\u001b[0m \u001b[0;34m=\u001b[0m \u001b[0mseed\u001b[0m\u001b[0;34m)\u001b[0m\u001b[0;34m\u001b[0m\u001b[0;34m\u001b[0m\u001b[0m\n\u001b[0;32m--> 285\u001b[0;31m         \u001b[0mtrain_data\u001b[0m \u001b[0;34m=\u001b[0m \u001b[0msvdData\u001b[0m\u001b[0;34m(\u001b[0m\u001b[0mtrain_data\u001b[0m\u001b[0;34m,\u001b[0m \u001b[0mself\u001b[0m\u001b[0;34m.\u001b[0m\u001b[0mR0\u001b[0m\u001b[0;34m)\u001b[0m\u001b[0;34m\u001b[0m\u001b[0;34m\u001b[0m\u001b[0m\n\u001b[0m\u001b[1;32m    286\u001b[0m         \u001b[0mtest_data\u001b[0m \u001b[0;34m=\u001b[0m \u001b[0msvdData\u001b[0m\u001b[0;34m(\u001b[0m\u001b[0mtest_data\u001b[0m\u001b[0;34m,\u001b[0m \u001b[0mself\u001b[0m\u001b[0;34m.\u001b[0m\u001b[0mR0\u001b[0m\u001b[0;34m)\u001b[0m\u001b[0;34m\u001b[0m\u001b[0;34m\u001b[0m\u001b[0m\n\u001b[1;32m    287\u001b[0m         \u001b[0mself\u001b[0m\u001b[0;34m.\u001b[0m\u001b[0mtrainsets\u001b[0m \u001b[0;34m=\u001b[0m \u001b[0;34m[\u001b[0m\u001b[0mtrain_data\u001b[0m\u001b[0;34m]\u001b[0m\u001b[0;34m\u001b[0m\u001b[0;34m\u001b[0m\u001b[0m\n",
      "\u001b[0;31mTypeError\u001b[0m: __init__() takes 2 positional arguments but 3 were given"
     ]
    }
   ],
   "source": [
    "# set up\n",
    "als = ALS('../data/ratings.csv')\n",
    "train_data, test_data = als.split(test_size = 0.2)"
   ]
  },
  {
   "cell_type": "code",
   "execution_count": 32,
   "metadata": {},
   "outputs": [],
   "source": [
    "als_best_params = (5, 0.1, 10, 3)\n",
    "# pickle.dump(als_best_params, open( \"../output/als_best_params.p\", \"wb\" ))"
   ]
  },
  {
   "cell_type": "code",
   "execution_count": null,
   "metadata": {},
   "outputs": [],
   "source": [
    "func.err(testdata)"
   ]
  },
  {
   "cell_type": "code",
   "execution_count": null,
   "metadata": {},
   "outputs": [],
   "source": []
  },
  {
   "cell_type": "code",
   "execution_count": 31,
   "metadata": {},
   "outputs": [
    {
     "data": {
      "text/plain": [
       "[(5, 0.1, 10, 3),\n",
       " (5, 0.15, 10, 3),\n",
       " (5, 0.2, 10, 3),\n",
       " (5, 0.25, 10, 3),\n",
       " (10, 0.1, 10, 3),\n",
       " (10, 0.15, 10, 3),\n",
       " (10, 0.2, 10, 3),\n",
       " (10, 0.25, 10, 3),\n",
       " (20, 0.1, 10, 3),\n",
       " (20, 0.15, 10, 3),\n",
       " (20, 0.2, 10, 3),\n",
       " (20, 0.25, 10, 3)]"
      ]
     },
     "execution_count": 31,
     "metadata": {},
     "output_type": "execute_result"
    }
   ],
   "source": [
    "reg_list = [0.1,0.15,0.2,0.25]\n",
    "rank_list = [5,10,20]\n",
    "als.gridParams(reg = reg_list, rank = rank_list)\n",
    "als.params"
   ]
  },
  {
   "cell_type": "code",
   "execution_count": 29,
   "metadata": {},
   "outputs": [
    {
     "name": "stdout",
     "output_type": "stream",
     "text": [
      "stage (5, 0.1, 10, 3)\n",
      "Train rmse : 0.15730247986260262   Cross-Validation rmse : 3.13608492415749\n",
      "Train rmse : 0.15646546385532925   Cross-Validation rmse : 3.510000317863808\n",
      "Train rmse : 0.16858554188334882   Cross-Validation rmse : 4.23802656147735\n",
      "Min cv err: 3.13608492415749\n",
      "stage (10, 0.1, 10, 3)\n",
      "Train rmse : 0.15873798360837146   Cross-Validation rmse : 3.467502124636618\n",
      "Train rmse : 0.1574959647994745   Cross-Validation rmse : 3.9975750482533194\n",
      "Train rmse : 0.16605785883961194   Cross-Validation rmse : 4.582073287307212\n",
      "Min cv err: 3.467502124636618\n",
      "stage (20, 0.1, 10, 3)\n",
      "Train rmse : 0.14981772248940667   Cross-Validation rmse : 3.503392560626259\n",
      "Train rmse : 0.1463924839963924   Cross-Validation rmse : 3.5078025708554295\n",
      "Train rmse : 0.15160390189404838   Cross-Validation rmse : 4.622733283608135\n",
      "Min cv err: 3.503392560626259\n"
     ]
    }
   ],
   "source": [
    "als.tuningParams(test_data, measure = 'rmse', verbose = False)"
   ]
  },
  {
   "cell_type": "code",
   "execution_count": 30,
   "metadata": {},
   "outputs": [
    {
     "data": {
      "text/plain": [
       "(5, 0.1, 10, 3)"
      ]
     },
     "execution_count": 30,
     "metadata": {},
     "output_type": "execute_result"
    }
   ],
   "source": [
    "als.best_params"
   ]
  },
  {
   "cell_type": "code",
   "execution_count": 20,
   "metadata": {},
   "outputs": [
    {
     "name": "stdout",
     "output_type": "stream",
     "text": [
      "Train rmse : 0.4639893316929484   Cross-Validation rmse : 2.7441895075188447\n",
      "Train rmse : 0.4627235342710854   Cross-Validation rmse : 2.719313973879377\n",
      "Train rmse : 0.4617953103011003   Cross-Validation rmse : 2.7915646847809734\n"
     ]
    },
    {
     "data": {
      "text/plain": [
       "2.719313973879377"
      ]
     },
     "execution_count": 20,
     "metadata": {},
     "output_type": "execute_result"
    }
   ],
   "source": [
    "als.cv(reg = s[1], rank = s[0], num_epoch = 10, verbose = True)"
   ]
  },
  {
   "cell_type": "markdown",
   "metadata": {},
   "source": [
    "rank = 5  : 1.4266937137186813\n",
    "rank = 10 : 1.908464083374105\n",
    "rank = 20 :"
   ]
  },
  {
   "cell_type": "code",
   "execution_count": null,
   "metadata": {},
   "outputs": [],
   "source": [
    "func.best_params"
   ]
  },
  {
   "cell_type": "markdown",
   "metadata": {},
   "source": [
    "### SGD new"
   ]
  },
  {
   "cell_type": "code",
   "execution_count": 205,
   "metadata": {},
   "outputs": [],
   "source": [
    "import pandas as pd\n",
    "import numpy as np\n",
    "import itertools\n",
    "from matplotlib import pyplot as plt\n",
    "from sklearn.model_selection import train_test_split\n",
    "from sklearn.model_selection import KFold\n",
    "from sklearn.metrics import pairwise_distances\n",
    "import time\n",
    "\n",
    "\n",
    "class svdData:\n",
    "\n",
    "    \"\"\"\n",
    "    The class for changing data to a format fit ALS algorithm\n",
    "    \"\"\"\n",
    "    def __init__(self, data, R0):\n",
    "\n",
    "    # Q : the user-item matrix based on given data\n",
    "    # R : 1 means the data contains user_u to item_i rating, while 0 means doesn't contain\n",
    "        self.data = data\n",
    "        self.R0 = R0\n",
    "        self.ratings = [(uid, iid, float(r)) for (uid, iid, r) in data.itertuples(index=False)]\n",
    "        self.Q, self.R = self._prepare_QR(self.data)\n",
    "\n",
    "    # def __init__(self, data):\n",
    "    #     self.raw = data\n",
    "    #     self.ratings = [(uid, iid, float(r)) for (uid, iid, r) in data.itertuples(index=False)]\n",
    "        \n",
    "\n",
    "    def _prepare_QR(self, data):\n",
    "        temp = self.R0.copy()\n",
    "        for u, i, r in self.ratings:\n",
    "            temp[i][u] = r\n",
    "\n",
    "        Q = temp.values\n",
    "        R = (Q > 0) *1\n",
    "        return Q, R\n",
    "\n",
    "\n",
    "class SVD:\n",
    "    \"\"\"\n",
    "    The class for performing matrix factorization with Singular Vector Deviation\n",
    "\n",
    "    Methods for pre-processing:\n",
    "        1. Stochastic  Gradient Descent\n",
    "        2. Alternating Least Squares\n",
    "\n",
    "    Mesures for evaluation:\n",
    "        1. RMSE: root mean square error\n",
    "        2. MAE : mean absolute error\n",
    "\n",
    "    \"\"\"\n",
    "\n",
    "    def __init__(self,data_dir, sample = False):\n",
    "        \n",
    "        \"\"\"\n",
    "        Attributes:\n",
    "            mean: global mean for rating\n",
    "            bu  : bias associates with users' rating \n",
    "            bi  : bias associates with items' rating\n",
    "            p   : user-matrix\n",
    "            q   : item-matrix\n",
    "        \"\"\"\n",
    "\n",
    "        self.df = pd.read_csv(data_dir)\n",
    "        del self.df['timestamp']\n",
    "        if sample:\n",
    "            self.df = self.df[0:1000]\n",
    "        \n",
    "        self.mean = np.mean(self.df['rating'])\n",
    "        self.user_count = len(self.df['userId'].unique())\n",
    "        self.item_count = len(self.df['movieId'].unique())\n",
    "\n",
    "        self.data = (self.df.pivot(index='userId', columns='movieId', values='rating')).fillna(0)\n",
    "        # user-item matrix\n",
    "        self.Q = self.data.values\n",
    "        self.R0 = self.data * 0\n",
    "        self._bu = None\n",
    "        self._bi = None\n",
    "        self.p = None\n",
    "        self.q = None\n",
    "        self.item_dict = None\n",
    "\n",
    "        self._K = None\n",
    "        self.error = None\n",
    "        self._trainsets = None\n",
    "        self._testsets = None\n",
    "        self.params = None\n",
    "        self.best_params = None\n",
    "\n",
    "\n",
    "\n",
    "    def split(self,test_size, seed = 0):\n",
    "        train_data, test_data = train_test_split(self.df, test_size = test_size, random_state = seed)\n",
    "        train_data = svdData(train_data, self.R0)\n",
    "        test_data = svdData(test_data, self.R0)\n",
    "        self._trainsets = [train_data]\n",
    "        self._testsets = [test_data]\n",
    "        return train_data , test_data\n",
    "    \n",
    "    def sgd(self, data, lr = 0.005,reg = 0.4, rank = 10, num_epoch = 10, seed = 0 , stopping_driv = 0.001, measure = 'rmse', elapse = False):\n",
    "        \"\"\"\n",
    "        A method to perform matrix factorization using Stochastic Gradient Descent\n",
    "\n",
    "        lr        : learning rate, Defalt: 10\n",
    "        reg       : regularization parameter: lambda, Defalt: 0.4\n",
    "        rank      : number of latent variables, Default : 10\n",
    "        num_epoch : number of iteration of the SGD procedure, Default:10\n",
    "        seed      : seed of calling random state\n",
    "        \"\"\"\n",
    "        self._algo = 'sgd'\n",
    "        \n",
    "        tmp1 = self.df['movieId'].unique()\n",
    "        self.item_dict = dict(zip(tmp1,[i for i in range(self.item_count)]))\n",
    "            \n",
    "        # initialize user matrix and item matrix\n",
    "        np.random.seed(seed)\n",
    "        p = np.random.normal(2.5,1, size = (self.user_count, rank))\n",
    "        q = np.random.normal(2.5,1, size = (self.item_count, rank))\n",
    "\n",
    "        # initialize bias\n",
    "        bu = np.zeros(self.user_count)\n",
    "        bi = np.zeros(self.item_count)\n",
    "\n",
    "        start_time = time.time()\n",
    "        for this_epoch in range(num_epoch):\n",
    "            \n",
    "            for uid, mid, r in data.ratings:\n",
    "                u = uid - 1\n",
    "                i = self.item_dict[mid]\n",
    "\n",
    "                # prediction\n",
    "                pred = self.mean + bu[u] + bi[i] + np.dot(p[u,:], q[i,:])          \n",
    "                err = r - pred\n",
    "                    \n",
    "                # update bias\n",
    "                deriv =(err - reg * bu[u])\n",
    "                if(np.abs(deriv) > stopping_driv):\n",
    "                    bu[u] += lr * deriv\n",
    "                deriv = (err - reg * bi[i])\n",
    "                if(np.abs(deriv) > stopping_driv):\n",
    "                    bi[i] += lr * deriv\n",
    "\n",
    "                for f in range(rank):\n",
    "                    puf = p[u,f]\n",
    "                    qif = q[i,f]\n",
    "                    deriv = (err * qif - reg * puf)\n",
    "                    if(np.abs(deriv) > stopping_driv):\n",
    "                        p[u,f]  += lr * deriv\n",
    "                    deriv = (err * puf - reg * qif)\n",
    "                    if(np.abs(deriv) > stopping_driv):\n",
    "                        q[i,f]  += lr * deriv\n",
    "        end_time = time.time()\n",
    "        last = round((end_time - start_time), 4)\n",
    "        if elapse:\n",
    "            print(\"Total time: {}s\".format(last))\n",
    "                    \n",
    "        # update the instance variariables\n",
    "        self.bu = bu\n",
    "        self.bi = bi\n",
    "        self.p = p\n",
    "        self.q = q\n",
    "        self.error = self.err(data, measure)\n",
    "        \n",
    "        \n",
    "        \n",
    "    def als(self, data, rank = 10, reg = 0.1, num_epoch = 10, measure = 'rmse', elapse = False):\n",
    "        \"\"\"\n",
    "        A method to perform matrix factorization using Alternating Least Square\n",
    "\n",
    "        data      : An svdData format\n",
    "        reg       : regularization parameter: lambda, Defalt: 0.4\n",
    "        rank      : number of latent variables, Default : 10\n",
    "        num_epoch : number of iteration of the SGD procedure, Default:10\n",
    "        measure   : evaluation method\n",
    "        elapse    : if true, print the time of fitting \n",
    "\n",
    "        \"\"\"\n",
    "        self._algo = 'als'\n",
    "        I = np.eye(rank)\n",
    "        np.random.seed(0)\n",
    "        p = np.random.normal(2.5,1, size = (self.Q.shape[0], rank))\n",
    "        q = np.random.normal(2.5,1, size = (self.Q.shape[1],rank))\n",
    "\n",
    "        start_time = time.time()\n",
    "        for this_epoch in range(num_epoch):\n",
    "\n",
    "            for u, Iu in enumerate(data.R):\n",
    "                j = np.nonzero(Iu)[0]\n",
    "                nu = sum(Iu)\n",
    "                if nu != 0:\n",
    "                    A = q[j,:].T.dot(q[j,:]) + nu * reg * I\n",
    "                    r = data.Q[u][data.Q[u]!=0]\n",
    "                    V = q[j,:].T.dot(r.T)\n",
    "                    p[u,:] = np.dot(np.linalg.inv(A), V)\n",
    "\n",
    "            for i, Ii in enumerate(data.R.T):\n",
    "                j = np.nonzero(Ii)[0]\n",
    "                ni = sum(Ii)\n",
    "                if ni != 0:\n",
    "                    A = p[j,:].T.dot(p[j,:]) + ni * reg * I\n",
    "                    r = data.Q.T[i][data.Q.T[i]!=0]\n",
    "                    V = p[j,:].T.dot(r) \n",
    "                    q[i,:] = np.dot(np.linalg.inv(A), V)\n",
    "        end_time = time.time()\n",
    "        last = round((end_time - start_time), 4)\n",
    "        if elapse:\n",
    "             print(\"Total time: {}s\".format(last))\n",
    "        self.q = q\n",
    "        self.p = p\n",
    "        self.error = self.err(data, measure)\n",
    "        \n",
    "    def err(self, data, measure = 'rmse'):\n",
    "        \"\"\"A method to calculate loss\"\"\"\n",
    "        if self._algo == 'sgd':\n",
    "            err = 0\n",
    "            for uid, mid, r in data.ratings:\n",
    "                u = uid - 1\n",
    "                i = self.item_dict[mid]\n",
    "\n",
    "                if measure == 'rmse':\n",
    "                    # prediction\n",
    "                    err += (r- self.mean - self.bu[u] - self.bi[i]- np.dot(self.p[u,:], self.q[i,:]))**2\n",
    "                    return np.sqrt(err/len(data.ratings))\n",
    "                if measure == 'mae':                \n",
    "                    return err/len(data.ratings)\n",
    "        if self._algo == 'als':\n",
    "            if measure == 'rmse':\n",
    "                loss = np.sum((data.R * (self.Q - np.dot(self.p, self.q.T))) ** 2)/ np.sum(data.R)\n",
    "                return np.sqrt(loss)\n",
    "            if measure == 'mae':\n",
    "                loss = np.sum(np.abs(data.R * (self.Q - np.dot(self.p, self.q.T))))/ np.sum(data.R) \n",
    "                return loss\n",
    "\n",
    "    def KNN(self, testset, K = 5, measure = 'rmse'):\n",
    "        self.sim = pairwise_distances(self.p, metric = \"cosine\")\n",
    "        err = 0\n",
    "        for uid, mid, r, in testset.ratings:\n",
    "            u = uid - 1\n",
    "            i = self.item_dict[mid]\n",
    "            neighbors = np.argsort(self.sim[u])[-K-1:-1]\n",
    "            sum_sim = 0\n",
    "            sum_rating = 0\n",
    "            \n",
    "            \n",
    "            for k in range(K):\n",
    "                rate = np.dot(self.p[neighbors[k],:], self.q[i,:])\n",
    "                if rate > 0:\n",
    "                    sum_sim += self.sim[u][neighbors[k]]\n",
    "                    sum_rating += rate * self.sim[u][neighbors[k]]\n",
    "\n",
    "\n",
    "            est_rating = sum_rating/sum_sim\n",
    "            if measure == 'rmse':\n",
    "                err += (r - est_rating) ** 2\n",
    "                return np.sqrt(err/len(testset.ratings))\n",
    "\n",
    "    def kfold_split(self, svd_data, K = 3,seed = 0):\n",
    "        kf = KFold(n_splits= K, random_state = seed, shuffle = True)\n",
    "        trainsets = []\n",
    "        testsets = []\n",
    "        self._K = K\n",
    "        \n",
    "        for train_index, test_index in kf.split(svd_data.data):\n",
    "            trainset = svd_data.data.iloc[train_index,:]\n",
    "            testset = svd_data.data.iloc[test_index,:]\n",
    "            \n",
    "            trainsets.append(svdData(trainset,self.R0))\n",
    "            testsets.append(svdData(testset,self.R0))\n",
    "        self._trainsets = trainsets\n",
    "        self._testsets = testsets\n",
    "        \n",
    "    def cv(self, data, measure,lr = 0.005, reg = 0.4, rank = 10, num_epoch = 10, verbose = True, plot = False, seed = 0):\n",
    "        \"\"\"A method fo perform cross-validation\"\"\"\n",
    "    \n",
    "        train_err= [0] * self._K\n",
    "        test_err = [0] * self._K\n",
    "\n",
    "        \n",
    "        for k in range(self._K):\n",
    "            if self._algo == 'sgd':\n",
    "                self.sgd(self._trainsets[k], lr = lr,reg = reg,rank = rank,num_epoch = num_epoch)\n",
    "            if self._algo == 'als':\n",
    "                self.als(self._trainsets[k], rank = rank, num_epoch = num_epoch, measure = measure)\n",
    "            train_err[k] = self.error\n",
    "            test_err[k] = self.err(self._testsets[k], measure)\n",
    "            if verbose:\n",
    "                print(\"Train {} : {}   Cross-Validation {} : {}\".format(measure, round(train_err[k],4), measure, round(test_err[k],4)))\n",
    "            \n",
    "        if plot:\n",
    "            x = np.arange(K) + 1\n",
    "            plt.title(\"Train error and cross-validation error\")\n",
    "            plt.plot(x,train_err, label = \"train error\") \n",
    "            plt.plot(x,test_err, label = \"cv error\") \n",
    "            plt.xlabel(\"number of folds\")\n",
    "            plt.ylabel(\"{}\".format(measure))\n",
    "            plt.legend()\n",
    "            plt.show()\n",
    "        \n",
    "        return np.amin(test_err)\n",
    "    \n",
    "    def gridParams(self, algo, lr = [0.005], reg = [0.4] ,rank = [10], num_epoch = [10]):\n",
    "        params = []\n",
    "        self._algo = algo\n",
    "        if self._algo == 'sgd':\n",
    "            for l, r, rk, np in itertools.product(lr, reg, rank, num_epoch):\n",
    "                params.append((l, r, rk, np))\n",
    "        if self._algo == 'als':\n",
    "            for rk, r, np in itertools.product(rank, reg, num_epoch):\n",
    "                params.append((rk, r, np))\n",
    "        self.params = params\n",
    "\n",
    "    def tuningParams(self,data, K = 3, measure = 'rmse',verbose = False):\n",
    "        loss = []\n",
    "        self.kfold_split(data, K= K)\n",
    "        for comb in self.params: \n",
    "            if self._algo == 'sgd':\n",
    "                err = self.cv(data, measure = measure, lr = comb[0], reg = comb[1], rank = comb[2], num_epoch = comb[3], verbose = verbose)\n",
    "            if self._algo == 'als':\n",
    "                err = self.cv(data, measure = measure, reg = comb[1], rank = comb[0], num_epoch = comb[2])\n",
    "            loss.append(err)\n",
    "            if verbose:\n",
    "                print(\"stage {}\".format(comb))\n",
    "                print(\"Min cv err: {}\".format(err))\n",
    "\n",
    "        idx = np.argmin(loss)\n",
    "        self.best_score = loss[idx]\n",
    "        self.best_params = self.params[idx]\n",
    "        "
   ]
  },
  {
   "cell_type": "markdown",
   "metadata": {},
   "source": [
    "## Test"
   ]
  },
  {
   "cell_type": "code",
   "execution_count": 206,
   "metadata": {},
   "outputs": [],
   "source": [
    "svd = SVD('../data/ratings.csv',True)\n",
    "trainset, testset = sgd.split(0.2)\n",
    "svd.kfold_split(trainset)"
   ]
  },
  {
   "cell_type": "markdown",
   "metadata": {},
   "source": [
    "### SGD"
   ]
  },
  {
   "cell_type": "code",
   "execution_count": 207,
   "metadata": {},
   "outputs": [],
   "source": [
    "svd.sgd(trainset)"
   ]
  },
  {
   "cell_type": "code",
   "execution_count": 208,
   "metadata": {},
   "outputs": [
    {
     "data": {
      "text/plain": [
       "0.17723274833565997"
      ]
     },
     "execution_count": 208,
     "metadata": {},
     "output_type": "execute_result"
    }
   ],
   "source": [
    "svd.err(testset)"
   ]
  },
  {
   "cell_type": "code",
   "execution_count": 209,
   "metadata": {},
   "outputs": [
    {
     "name": "stdout",
     "output_type": "stream",
     "text": [
      "Train rmse : 0.0237   Cross-Validation rmse : 0.1238\n",
      "Train rmse : 0.018   Cross-Validation rmse : 0.0605\n",
      "Train rmse : 0.0335   Cross-Validation rmse : 0.0042\n"
     ]
    },
    {
     "data": {
      "text/plain": [
       "0.004169835015703391"
      ]
     },
     "execution_count": 209,
     "metadata": {},
     "output_type": "execute_result"
    }
   ],
   "source": [
    "svd.cv(trainset, 'rmse')"
   ]
  },
  {
   "cell_type": "code",
   "execution_count": 210,
   "metadata": {},
   "outputs": [],
   "source": [
    "reg_list = [0.1,0.15]\n",
    "rank_list = [5,10]\n",
    "svd.gridParams(algo = 'sgd',reg = reg_list, rank = rank_list)"
   ]
  },
  {
   "cell_type": "code",
   "execution_count": 211,
   "metadata": {},
   "outputs": [
    {
     "name": "stdout",
     "output_type": "stream",
     "text": [
      "Train rmse : 0.0442   Cross-Validation rmse : 0.1114\n",
      "Train rmse : 0.0344   Cross-Validation rmse : 0.0832\n",
      "Train rmse : 0.0424   Cross-Validation rmse : 0.0442\n",
      "stage (0.005, 0.1, 5, 10)\n",
      "Min cv err: 0.04422002765081479\n",
      "Train rmse : 0.0146   Cross-Validation rmse : 0.1307\n",
      "Train rmse : 0.0117   Cross-Validation rmse : 0.06\n",
      "Train rmse : 0.0258   Cross-Validation rmse : 0.0214\n",
      "stage (0.005, 0.1, 10, 10)\n",
      "Min cv err: 0.021421909866581008\n",
      "Train rmse : 0.0455   Cross-Validation rmse : 0.1119\n",
      "Train rmse : 0.0358   Cross-Validation rmse : 0.0827\n",
      "Train rmse : 0.0436   Cross-Validation rmse : 0.0432\n",
      "stage (0.005, 0.15, 5, 10)\n",
      "Min cv err: 0.0431650630538161\n",
      "Train rmse : 0.0171   Cross-Validation rmse : 0.1292\n",
      "Train rmse : 0.0136   Cross-Validation rmse : 0.06\n",
      "Train rmse : 0.0281   Cross-Validation rmse : 0.0156\n",
      "stage (0.005, 0.15, 10, 10)\n",
      "Min cv err: 0.015618168619160116\n"
     ]
    }
   ],
   "source": [
    "svd.tuningParams(trainset, verbose = True)"
   ]
  },
  {
   "cell_type": "code",
   "execution_count": 212,
   "metadata": {},
   "outputs": [
    {
     "data": {
      "text/plain": [
       "(0.005, 0.15, 10, 10)"
      ]
     },
     "execution_count": 212,
     "metadata": {},
     "output_type": "execute_result"
    }
   ],
   "source": [
    "svd.best_params"
   ]
  },
  {
   "cell_type": "code",
   "execution_count": 140,
   "metadata": {},
   "outputs": [
    {
     "name": "stdout",
     "output_type": "stream",
     "text": [
      "Total time: 0.7267s\n"
     ]
    }
   ],
   "source": [
    "sgd_best_params = pickle.load(open( \"../output/sgd_best_params.p\", \"rb\" ))\n",
    "sgd.sgd(trainset, lr = sgd_best_params[0] ,reg = sgd_best_params[1], rank = sgd_best_params[2],elapse = True)"
   ]
  },
  {
   "cell_type": "code",
   "execution_count": 213,
   "metadata": {},
   "outputs": [
    {
     "data": {
      "text/plain": [
       "0.1629564714517793"
      ]
     },
     "execution_count": 213,
     "metadata": {},
     "output_type": "execute_result"
    }
   ],
   "source": [
    "sgd.err(testset)"
   ]
  },
  {
   "cell_type": "markdown",
   "metadata": {},
   "source": [
    "### ALS"
   ]
  },
  {
   "cell_type": "code",
   "execution_count": 214,
   "metadata": {},
   "outputs": [
    {
     "data": {
      "text/plain": [
       "0.20669180324316216"
      ]
     },
     "execution_count": 214,
     "metadata": {},
     "output_type": "execute_result"
    }
   ],
   "source": [
    "svd.als(trainset)\n",
    "svd.error"
   ]
  },
  {
   "cell_type": "code",
   "execution_count": 215,
   "metadata": {},
   "outputs": [
    {
     "data": {
      "text/plain": [
       "4.522689341988216"
      ]
     },
     "execution_count": 215,
     "metadata": {},
     "output_type": "execute_result"
    }
   ],
   "source": [
    "svd.err(testset)"
   ]
  },
  {
   "cell_type": "code",
   "execution_count": 216,
   "metadata": {},
   "outputs": [],
   "source": [
    "reg_list = [0.1,0.15]\n",
    "rank_list = [5,10]\n",
    "svd.gridParams(algo = 'als',reg = reg_list, rank = rank_list)"
   ]
  },
  {
   "cell_type": "code",
   "execution_count": 217,
   "metadata": {},
   "outputs": [
    {
     "data": {
      "text/plain": [
       "[(5, 0.1, 10), (5, 0.15, 10), (10, 0.1, 10), (10, 0.15, 10)]"
      ]
     },
     "execution_count": 217,
     "metadata": {},
     "output_type": "execute_result"
    }
   ],
   "source": [
    "svd.params"
   ]
  },
  {
   "cell_type": "code",
   "execution_count": 218,
   "metadata": {},
   "outputs": [
    {
     "name": "stdout",
     "output_type": "stream",
     "text": [
      "Train rmse : 0.1868   Cross-Validation rmse : 3.3555\n",
      "Train rmse : 0.1855   Cross-Validation rmse : 3.144\n",
      "Train rmse : 0.1876   Cross-Validation rmse : 3.3852\n",
      "Train rmse : 0.1868   Cross-Validation rmse : 3.3555\n",
      "Train rmse : 0.1855   Cross-Validation rmse : 3.144\n",
      "Train rmse : 0.1876   Cross-Validation rmse : 3.3852\n",
      "Train rmse : 0.1979   Cross-Validation rmse : 4.8151\n",
      "Train rmse : 0.1934   Cross-Validation rmse : 4.7171\n",
      "Train rmse : 0.1982   Cross-Validation rmse : 5.0645\n",
      "Train rmse : 0.1979   Cross-Validation rmse : 4.8151\n",
      "Train rmse : 0.1934   Cross-Validation rmse : 4.7171\n",
      "Train rmse : 0.1982   Cross-Validation rmse : 5.0645\n"
     ]
    }
   ],
   "source": [
    "svd.tuningParams(trainset)"
   ]
  },
  {
   "cell_type": "code",
   "execution_count": 149,
   "metadata": {},
   "outputs": [],
   "source": [
    "als_best_params = pickle.load(open( \"../output/als_best_params.p\", \"rb\" ))"
   ]
  },
  {
   "cell_type": "code",
   "execution_count": 150,
   "metadata": {},
   "outputs": [
    {
     "data": {
      "text/plain": [
       "(5, 0.1, 10, 3)"
      ]
     },
     "execution_count": 150,
     "metadata": {},
     "output_type": "execute_result"
    }
   ],
   "source": [
    "als_best_params"
   ]
  },
  {
   "cell_type": "code",
   "execution_count": 153,
   "metadata": {},
   "outputs": [
    {
     "name": "stdout",
     "output_type": "stream",
     "text": [
      "Total time: 0.2512s\n"
     ]
    }
   ],
   "source": [
    "svd.als(trainset, rank = als_best_params[0], reg = als_best_params[1],elapse = True)"
   ]
  },
  {
   "cell_type": "code",
   "execution_count": 154,
   "metadata": {},
   "outputs": [
    {
     "data": {
      "text/plain": [
       "3.4686601289217545"
      ]
     },
     "execution_count": 154,
     "metadata": {},
     "output_type": "execute_result"
    }
   ],
   "source": [
    "svd.err(testset)"
   ]
  },
  {
   "cell_type": "markdown",
   "metadata": {},
   "source": [
    "### KNN"
   ]
  },
  {
   "cell_type": "code",
   "execution_count": 42,
   "metadata": {},
   "outputs": [
    {
     "data": {
      "text/plain": [
       "0.02275047085827895"
      ]
     },
     "execution_count": 42,
     "metadata": {},
     "output_type": "execute_result"
    }
   ],
   "source": [
    "sgd.KNN(testset)"
   ]
  },
  {
   "cell_type": "code",
   "execution_count": 43,
   "metadata": {},
   "outputs": [
    {
     "name": "stdout",
     "output_type": "stream",
     "text": [
      "best K for KNN: 7\n"
     ]
    },
    {
     "data": {
      "image/png": "[encoded data removed]",
      "text/plain": [
       "<Figure size 432x288 with 1 Axes>"
      ]
     },
     "metadata": {
      "needs_background": "light"
     },
     "output_type": "display_data"
    }
   ],
   "source": [
    "# train K\n",
    "K_err = []\n",
    "K_num = [i for i in range(2,100)]\n",
    "for k in K_num:\n",
    "    K_err.append(sgd.KNN(testset, K = k))\n",
    "plt.plot(K_num, K_err)\n",
    "plt.xlabel(\"number of neighbors\") \n",
    "plt.ylabel(\"Testing RMSE\")\n",
    "plt.title(\"Testing RMSE for K from 1 to 100\")\n",
    "plt.grid()\n",
    "best_K = np.argmin(K_err)+2\n",
    "print(\"best K for KNN: {}\".format(best_K))"
   ]
  },
  {
   "cell_type": "code",
   "execution_count": 44,
   "metadata": {},
   "outputs": [],
   "source": [
    "temp = [[2,2],[3,4]]"
   ]
  },
  {
   "cell_type": "code",
   "execution_count": 11,
   "metadata": {},
   "outputs": [],
   "source": [
    "sort = np.argsort(temp)"
   ]
  },
  {
   "cell_type": "code",
   "execution_count": 15,
   "metadata": {},
   "outputs": [
    {
     "data": {
      "text/plain": [
       "2"
      ]
     },
     "execution_count": 15,
     "metadata": {},
     "output_type": "execute_result"
    }
   ],
   "source": [
    "temp[sort[-3]]"
   ]
  },
  {
   "cell_type": "code",
   "execution_count": 59,
   "metadata": {},
   "outputs": [],
   "source": [
    "class test:\n",
    "    def __init__(self,data,R0 = None):\n",
    "        print(\"yes, 1\")\n",
    "        \n",
    "    def __init__(self,data, R0):\n",
    "        print(\"yes ,2\")"
   ]
  },
  {
   "cell_type": "code",
   "execution_count": 62,
   "metadata": {},
   "outputs": [
    {
     "name": "stdout",
     "output_type": "stream",
     "text": [
      "yes ,2\n"
     ]
    },
    {
     "data": {
      "text/plain": [
       "<__main__.test at 0x1a17f98350>"
      ]
     },
     "execution_count": 62,
     "metadata": {},
     "output_type": "execute_result"
    }
   ],
   "source": [
    "test(\"1\",2)"
   ]
  },
  {
   "cell_type": "code",
   "execution_count": null,
   "metadata": {},
   "outputs": [],
   "source": []
  }
 ],
 "metadata": {
  "kernelspec": {
   "display_name": "Python 3",
   "language": "python",
   "name": "python3"
  },
  "language_info": {
   "codemirror_mode": {
    "name": "ipython",
    "version": 3
   },
   "file_extension": ".py",
   "mimetype": "text/x-python",
   "name": "python",
   "nbconvert_exporter": "python",
   "pygments_lexer": "ipython3",
   "version": "3.7.4"
  }
 },
 "nbformat": 4,
 "nbformat_minor": 2
}
